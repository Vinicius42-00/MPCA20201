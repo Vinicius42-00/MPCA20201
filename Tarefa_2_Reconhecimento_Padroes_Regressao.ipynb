{
 "cells": [
  {
   "cell_type": "code",
   "execution_count": 11,
   "metadata": {},
   "outputs": [],
   "source": [
    "'''\n",
    "Resolvendo um problema de regressão\n",
    "'''\n",
    "\n",
    "import pandas as pd\n",
    "import numpy as np\n",
    "from sklearn.linear_model import LinearRegression\n",
    "import matplotlib.pyplot as plt\n",
    "from sklearn.metrics import mean_squared_error\n",
    "\n"
   ]
  },
  {
   "cell_type": "code",
   "execution_count": 8,
   "metadata": {},
   "outputs": [
    {
     "data": {
      "text/html": [
       "<div>\n",
       "<style scoped>\n",
       "    .dataframe tbody tr th:only-of-type {\n",
       "        vertical-align: middle;\n",
       "    }\n",
       "\n",
       "    .dataframe tbody tr th {\n",
       "        vertical-align: top;\n",
       "    }\n",
       "\n",
       "    .dataframe thead th {\n",
       "        text-align: right;\n",
       "    }\n",
       "</style>\n",
       "<table border=\"1\" class=\"dataframe\">\n",
       "  <thead>\n",
       "    <tr style=\"text-align: right;\">\n",
       "      <th></th>\n",
       "      <th>age</th>\n",
       "      <th>sex</th>\n",
       "      <th>cp</th>\n",
       "      <th>trestbps</th>\n",
       "      <th>chol</th>\n",
       "      <th>fbs</th>\n",
       "      <th>restecg</th>\n",
       "      <th>thalach</th>\n",
       "      <th>exang</th>\n",
       "      <th>oldpeak</th>\n",
       "      <th>slope</th>\n",
       "      <th>ca</th>\n",
       "      <th>thal</th>\n",
       "      <th>target</th>\n",
       "    </tr>\n",
       "  </thead>\n",
       "  <tbody>\n",
       "    <tr>\n",
       "      <th>0</th>\n",
       "      <td>63</td>\n",
       "      <td>1</td>\n",
       "      <td>3</td>\n",
       "      <td>145</td>\n",
       "      <td>233</td>\n",
       "      <td>1</td>\n",
       "      <td>0</td>\n",
       "      <td>150</td>\n",
       "      <td>0</td>\n",
       "      <td>2.3</td>\n",
       "      <td>0</td>\n",
       "      <td>0</td>\n",
       "      <td>1</td>\n",
       "      <td>1</td>\n",
       "    </tr>\n",
       "    <tr>\n",
       "      <th>1</th>\n",
       "      <td>37</td>\n",
       "      <td>1</td>\n",
       "      <td>2</td>\n",
       "      <td>130</td>\n",
       "      <td>250</td>\n",
       "      <td>0</td>\n",
       "      <td>1</td>\n",
       "      <td>187</td>\n",
       "      <td>0</td>\n",
       "      <td>3.5</td>\n",
       "      <td>0</td>\n",
       "      <td>0</td>\n",
       "      <td>2</td>\n",
       "      <td>1</td>\n",
       "    </tr>\n",
       "    <tr>\n",
       "      <th>2</th>\n",
       "      <td>41</td>\n",
       "      <td>0</td>\n",
       "      <td>1</td>\n",
       "      <td>130</td>\n",
       "      <td>204</td>\n",
       "      <td>0</td>\n",
       "      <td>0</td>\n",
       "      <td>172</td>\n",
       "      <td>0</td>\n",
       "      <td>1.4</td>\n",
       "      <td>2</td>\n",
       "      <td>0</td>\n",
       "      <td>2</td>\n",
       "      <td>1</td>\n",
       "    </tr>\n",
       "    <tr>\n",
       "      <th>3</th>\n",
       "      <td>56</td>\n",
       "      <td>1</td>\n",
       "      <td>1</td>\n",
       "      <td>120</td>\n",
       "      <td>236</td>\n",
       "      <td>0</td>\n",
       "      <td>1</td>\n",
       "      <td>178</td>\n",
       "      <td>0</td>\n",
       "      <td>0.8</td>\n",
       "      <td>2</td>\n",
       "      <td>0</td>\n",
       "      <td>2</td>\n",
       "      <td>1</td>\n",
       "    </tr>\n",
       "    <tr>\n",
       "      <th>4</th>\n",
       "      <td>57</td>\n",
       "      <td>0</td>\n",
       "      <td>0</td>\n",
       "      <td>120</td>\n",
       "      <td>354</td>\n",
       "      <td>0</td>\n",
       "      <td>1</td>\n",
       "      <td>163</td>\n",
       "      <td>1</td>\n",
       "      <td>0.6</td>\n",
       "      <td>2</td>\n",
       "      <td>0</td>\n",
       "      <td>2</td>\n",
       "      <td>1</td>\n",
       "    </tr>\n",
       "  </tbody>\n",
       "</table>\n",
       "</div>"
      ],
      "text/plain": [
       "   age  sex  cp  trestbps  chol  fbs  restecg  thalach  exang  oldpeak  slope  \\\n",
       "0   63    1   3       145   233    1        0      150      0      2.3      0   \n",
       "1   37    1   2       130   250    0        1      187      0      3.5      0   \n",
       "2   41    0   1       130   204    0        0      172      0      1.4      2   \n",
       "3   56    1   1       120   236    0        1      178      0      0.8      2   \n",
       "4   57    0   0       120   354    0        1      163      1      0.6      2   \n",
       "\n",
       "   ca  thal  target  \n",
       "0   0     1       1  \n",
       "1   0     2       1  \n",
       "2   0     2       1  \n",
       "3   0     2       1  \n",
       "4   0     2       1  "
      ]
     },
     "execution_count": 8,
     "metadata": {},
     "output_type": "execute_result"
    }
   ],
   "source": [
    "# Carregue uma base de dados de regressão que NÃO esteja nos \n",
    "# toy datasets do scikit-learn;\n",
    "# https://www.kaggle.com/ronitf/heart-disease-uci\n",
    "base = pd.read_csv('heart.csv')\n",
    "base.head()"
   ]
  },
  {
   "cell_type": "code",
   "execution_count": 45,
   "metadata": {},
   "outputs": [
    {
     "name": "stdout",
     "output_type": "stream",
     "text": [
      "0.11965479756916172\n",
      "0.8288986814219852\n",
      "[-0.00082042 -0.19599555  0.11270339 -0.00199097 -0.00035354  0.01737364\n",
      "  0.04984795  0.00301933 -0.14404593 -0.05878869  0.07897881 -0.10060216\n",
      " -0.11903917]\n"
     ]
    }
   ],
   "source": [
    "# Treine um modelo da classe LinearRegression \n",
    "# do scikit-learn com toda a base;\n",
    "\n",
    "X, y = base.drop('target',axis=1), base.target\n",
    "modelo = LinearRegression()\n",
    "modelo.fit(X, y)\n",
    "ypred = modelo.predict(X)\n",
    "print(mean_squared_error(y, ypred))\n",
    "print(modelo.intercept_)\n",
    "print(modelo.coef_)"
   ]
  },
  {
   "cell_type": "code",
   "execution_count": 62,
   "metadata": {},
   "outputs": [
    {
     "name": "stdout",
     "output_type": "stream",
     "text": [
      "Erro Quadrado Medio para age: 0.24\n",
      "Erro Quadrado Medio para sex: 0.23\n",
      "Erro Quadrado Medio para cp: 0.20\n",
      "Erro Quadrado Medio para trestbps: 0.24\n",
      "Erro Quadrado Medio para chol: 0.25\n",
      "Erro Quadrado Medio para fbs: 0.25\n",
      "Erro Quadrado Medio para restecg: 0.24\n",
      "Erro Quadrado Medio para thalach: 0.20\n",
      "Erro Quadrado Medio para exang: 0.20\n",
      "Erro Quadrado Medio para oldpeak: 0.20\n",
      "Erro Quadrado Medio para slope: 0.22\n",
      "Erro Quadrado Medio para ca: 0.21\n",
      "Erro Quadrado Medio para thal: 0.22\n"
     ]
    }
   ],
   "source": [
    "# Calcule o MSE (erro quadrático médio) para todos os exemplos da usada \n",
    "# como treino no modelo treinado;\n",
    "\n",
    "for col in X.columns:\n",
    "    X_col = np.array(X[col]).reshape(-1,1)\n",
    "    modelo.fit(X_col, y)\n",
    "    ypred = modelo.predict(X_col)\n",
    "    print(f'Erro Quadrado Medio para {col}: {mean_squared_error(y, ypred):.2f}')\n"
   ]
  },
  {
   "cell_type": "code",
   "execution_count": 134,
   "metadata": {},
   "outputs": [],
   "source": [
    "# Plote em um gráfico (2D) o MSE em função do atributo intercept_ da \n",
    "# classe LinearRegression. Mantenha os valores do atributo coef_ fixos \n",
    "# e varie o valor de intercept_ entre intercept_ - delta e \n",
    "# intercept_ + delta. O gráfico tem que ser uma parábola com \n",
    "# concavidade para cima. \n",
    "# Não plote um gráfico 3D com visão de cima.\n",
    "\n",
    "\n",
    "\n",
    "modelo.fit(X, y)\n",
    "ypred = modelo.predict(X)\n",
    "mse = mean_squared_error(y, ypred)\n",
    "interc = modelo.intercept_\n",
    "\n",
    "def plot_delta(intercept, erro):\n",
    "    plt.plot(intercept, erro);\n",
    "    plt.title('Heart Disease')\n",
    "    plt.xlabel('Intercept')\n",
    "    plt.ylabel('Erro Quadrado Médio')\n",
    "    plt.show;\n",
    "\n",
    "\n",
    "    \n",
    "\n",
    "\n",
    "    "
   ]
  },
  {
   "cell_type": "code",
   "execution_count": null,
   "metadata": {},
   "outputs": [],
   "source": [
    "# Coeficientes fixos \n",
    "coef_fixos = modelo.coef_[0]*X[X.columns[0]]+\\\n",
    "                    modelo.coef_[1]*X[X.columns[1]]+\\\n",
    "                    modelo.coef_[2]*X[X.columns[2]]+\\\n",
    "                    modelo.coef_[3]*X[X.columns[3]]+\\\n",
    "                    modelo.coef_[4]*X[X.columns[4]]+\\\n",
    "                    modelo.coef_[5]*X[X.columns[5]]+\\\n",
    "                    modelo.coef_[6]*X[X.columns[6]]+\\\n",
    "                    modelo.coef_[7]*X[X.columns[7]]+\\\n",
    "                    modelo.coef_[8]*X[X.columns[8]]+\\\n",
    "                    modelo.coef_[9]*X[X.columns[9]]+\\\n",
    "                    modelo.coef_[10]*X[X.columns[10]]+\\\n",
    "                    modelo.coef_[11]*X[X.columns[11]]+\\\n",
    "                    modelo.coef_[12]*X[X.columns[12]]"
   ]
  },
  {
   "cell_type": "code",
   "execution_count": 178,
   "metadata": {},
   "outputs": [],
   "source": [
    "delta = np.random.uniform(0,1,1)\n",
    "intercept = np.linspace(modelo.intercept_ - delta, \n",
    "                        modelo.intercept_ + delta, \n",
    "                        50)\n",
    "erro = []\n",
    "for i in range(len(intercept)):\n",
    "    ypred1 = intercept[i] + coef_fixos\n",
    "    erro.append(mean_squared_error(y, ypred1))\n",
    "    \n",
    "    "
   ]
  },
  {
   "cell_type": "code",
   "execution_count": 179,
   "metadata": {},
   "outputs": [
    {
     "data": {
      "image/png": "[encoded data removed]",
      "text/plain": [
       "<Figure size 432x288 with 1 Axes>"
      ]
     },
     "metadata": {
      "needs_background": "light"
     },
     "output_type": "display_data"
    }
   ],
   "source": [
    "plot_delta(intercept, erro)"
   ]
  }
 ],
 "metadata": {
  "kernelspec": {
   "display_name": "Python 3",
   "language": "python",
   "name": "python3"
  },
  "language_info": {
   "codemirror_mode": {
    "name": "ipython",
    "version": 3
   },
   "file_extension": ".py",
   "mimetype": "text/x-python",
   "name": "python",
   "nbconvert_exporter": "python",
   "pygments_lexer": "ipython3",
   "version": "3.8.3"
  }
 },
 "nbformat": 4,
 "nbformat_minor": 4
}
