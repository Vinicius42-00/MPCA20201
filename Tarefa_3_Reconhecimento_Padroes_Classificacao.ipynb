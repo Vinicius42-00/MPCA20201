{
 "cells": [
  {
   "cell_type": "code",
   "execution_count": 69,
   "metadata": {},
   "outputs": [],
   "source": [
    "'''\n",
    "Resolvendo um problema de Classificacao\n",
    "'''\n",
    "\n",
    "import pandas as pd\n",
    "import numpy as np\n",
    "from sklearn.linear_model import LogisticRegression\n",
    "#from sklearn.linear_model import LinearRegression\n",
    "import matplotlib.pyplot as plt\n",
    "from sklearn.metrics import mean_squared_error"
   ]
  },
  {
   "cell_type": "code",
   "execution_count": 3,
   "metadata": {},
   "outputs": [
    {
     "data": {
      "text/html": [
       "<div>\n",
       "<style scoped>\n",
       "    .dataframe tbody tr th:only-of-type {\n",
       "        vertical-align: middle;\n",
       "    }\n",
       "\n",
       "    .dataframe tbody tr th {\n",
       "        vertical-align: top;\n",
       "    }\n",
       "\n",
       "    .dataframe thead th {\n",
       "        text-align: right;\n",
       "    }\n",
       "</style>\n",
       "<table border=\"1\" class=\"dataframe\">\n",
       "  <thead>\n",
       "    <tr style=\"text-align: right;\">\n",
       "      <th></th>\n",
       "      <th>age</th>\n",
       "      <th>sex</th>\n",
       "      <th>cp</th>\n",
       "      <th>trestbps</th>\n",
       "      <th>chol</th>\n",
       "      <th>fbs</th>\n",
       "      <th>restecg</th>\n",
       "      <th>thalach</th>\n",
       "      <th>exang</th>\n",
       "      <th>oldpeak</th>\n",
       "      <th>slope</th>\n",
       "      <th>ca</th>\n",
       "      <th>thal</th>\n",
       "      <th>target</th>\n",
       "    </tr>\n",
       "  </thead>\n",
       "  <tbody>\n",
       "    <tr>\n",
       "      <th>0</th>\n",
       "      <td>63</td>\n",
       "      <td>1</td>\n",
       "      <td>3</td>\n",
       "      <td>145</td>\n",
       "      <td>233</td>\n",
       "      <td>1</td>\n",
       "      <td>0</td>\n",
       "      <td>150</td>\n",
       "      <td>0</td>\n",
       "      <td>2.3</td>\n",
       "      <td>0</td>\n",
       "      <td>0</td>\n",
       "      <td>1</td>\n",
       "      <td>1</td>\n",
       "    </tr>\n",
       "    <tr>\n",
       "      <th>1</th>\n",
       "      <td>37</td>\n",
       "      <td>1</td>\n",
       "      <td>2</td>\n",
       "      <td>130</td>\n",
       "      <td>250</td>\n",
       "      <td>0</td>\n",
       "      <td>1</td>\n",
       "      <td>187</td>\n",
       "      <td>0</td>\n",
       "      <td>3.5</td>\n",
       "      <td>0</td>\n",
       "      <td>0</td>\n",
       "      <td>2</td>\n",
       "      <td>1</td>\n",
       "    </tr>\n",
       "    <tr>\n",
       "      <th>2</th>\n",
       "      <td>41</td>\n",
       "      <td>0</td>\n",
       "      <td>1</td>\n",
       "      <td>130</td>\n",
       "      <td>204</td>\n",
       "      <td>0</td>\n",
       "      <td>0</td>\n",
       "      <td>172</td>\n",
       "      <td>0</td>\n",
       "      <td>1.4</td>\n",
       "      <td>2</td>\n",
       "      <td>0</td>\n",
       "      <td>2</td>\n",
       "      <td>1</td>\n",
       "    </tr>\n",
       "    <tr>\n",
       "      <th>3</th>\n",
       "      <td>56</td>\n",
       "      <td>1</td>\n",
       "      <td>1</td>\n",
       "      <td>120</td>\n",
       "      <td>236</td>\n",
       "      <td>0</td>\n",
       "      <td>1</td>\n",
       "      <td>178</td>\n",
       "      <td>0</td>\n",
       "      <td>0.8</td>\n",
       "      <td>2</td>\n",
       "      <td>0</td>\n",
       "      <td>2</td>\n",
       "      <td>1</td>\n",
       "    </tr>\n",
       "    <tr>\n",
       "      <th>4</th>\n",
       "      <td>57</td>\n",
       "      <td>0</td>\n",
       "      <td>0</td>\n",
       "      <td>120</td>\n",
       "      <td>354</td>\n",
       "      <td>0</td>\n",
       "      <td>1</td>\n",
       "      <td>163</td>\n",
       "      <td>1</td>\n",
       "      <td>0.6</td>\n",
       "      <td>2</td>\n",
       "      <td>0</td>\n",
       "      <td>2</td>\n",
       "      <td>1</td>\n",
       "    </tr>\n",
       "  </tbody>\n",
       "</table>\n",
       "</div>"
      ],
      "text/plain": [
       "   age  sex  cp  trestbps  chol  fbs  restecg  thalach  exang  oldpeak  slope  \\\n",
       "0   63    1   3       145   233    1        0      150      0      2.3      0   \n",
       "1   37    1   2       130   250    0        1      187      0      3.5      0   \n",
       "2   41    0   1       130   204    0        0      172      0      1.4      2   \n",
       "3   56    1   1       120   236    0        1      178      0      0.8      2   \n",
       "4   57    0   0       120   354    0        1      163      1      0.6      2   \n",
       "\n",
       "   ca  thal  target  \n",
       "0   0     1       1  \n",
       "1   0     2       1  \n",
       "2   0     2       1  \n",
       "3   0     2       1  \n",
       "4   0     2       1  "
      ]
     },
     "execution_count": 3,
     "metadata": {},
     "output_type": "execute_result"
    }
   ],
   "source": [
    "# Carregue uma base de dados de regressão que NÃO esteja nos \n",
    "# toy datasets do scikit-learn;\n",
    "# https://www.kaggle.com/ronitf/heart-disease-uci\n",
    "base = pd.read_csv('heart.csv')\n",
    "base.head()"
   ]
  },
  {
   "cell_type": "code",
   "execution_count": 15,
   "metadata": {},
   "outputs": [
    {
     "name": "stdout",
     "output_type": "stream",
     "text": [
      "Erro Quadrado Médio:0.15\n",
      "Erro Quadrado Medio para age: 0.38\n",
      "Erro Quadrado Medio para sex: 0.39\n",
      "Erro Quadrado Medio para cp: 0.24\n",
      "Erro Quadrado Medio para trestbps: 0.42\n",
      "Erro Quadrado Medio para chol: 0.47\n",
      "Erro Quadrado Medio para fbs: 0.46\n",
      "Erro Quadrado Medio para restecg: 0.42\n",
      "Erro Quadrado Medio para thalach: 0.30\n",
      "Erro Quadrado Medio para exang: 0.28\n",
      "Erro Quadrado Medio para oldpeak: 0.31\n",
      "Erro Quadrado Medio para slope: 0.31\n",
      "Erro Quadrado Medio para ca: 0.26\n",
      "Erro Quadrado Medio para thal: 0.25\n"
     ]
    },
    {
     "name": "stderr",
     "output_type": "stream",
     "text": [
      "/Users/viniciusmarques/opt/anaconda3/lib/python3.8/site-packages/sklearn/linear_model/_logistic.py:762: ConvergenceWarning: lbfgs failed to converge (status=1):\n",
      "STOP: TOTAL NO. of ITERATIONS REACHED LIMIT.\n",
      "\n",
      "Increase the number of iterations (max_iter) or scale the data as shown in:\n",
      "    https://scikit-learn.org/stable/modules/preprocessing.html\n",
      "Please also refer to the documentation for alternative solver options:\n",
      "    https://scikit-learn.org/stable/modules/linear_model.html#logistic-regression\n",
      "  n_iter_i = _check_optimize_result(\n"
     ]
    }
   ],
   "source": [
    "# Treine um modelo da classe LinearRegression \n",
    "# do scikit-learn com toda a base;\n",
    "\n",
    "X, y = base.drop('target',axis=1), base.target\n",
    "modelo_todo = LogisticRegression()\n",
    "modelo_todo.fit(X, y)\n",
    "ypred_todo = modelo_todo.predict(X)\n",
    "print(f'Erro Quadrado Médio:{mean_squared_error(y, ypred_todo):.2f}')\n",
    "for col in X.columns:\n",
    "    X_col = np.array(X[col]).reshape(-1,1)\n",
    "    modelo.fit(X_col, y)\n",
    "    ypred = modelo.predict(X_col)\n",
    "    print(f'Erro Quadrado Medio para {col}: {mean_squared_error(y, ypred):.2f}')\n",
    "\n"
   ]
  },
  {
   "cell_type": "code",
   "execution_count": 92,
   "metadata": {},
   "outputs": [],
   "source": [
    "def plot_delta(intercept, erro):\n",
    "    plt.plot(intercept, erro);\n",
    "    plt.title('Heart Disease')\n",
    "    plt.xlabel('Intercept')\n",
    "    plt.ylabel('Erro Quadrado Médio')\n",
    "    plt.show;\n",
    "\n",
    "def intercept_erro(X,y,col, delta):\n",
    "    X_col = np.array(X[col]).reshape(-1,1)\n",
    "    modelo = LogisticRegression()\n",
    "    modelo.fit(X_col, y)\n",
    "    intercept = np.linspace(modelo.intercept_ - np.random.choice(delta, 1)[0], \n",
    "                        modelo.intercept_ + np.random.choice(delta, 1)[0], \n",
    "                        50)\n",
    "    erro = []\n",
    "    for i in range(len(intercept)):\n",
    "        ypred1 = intercept[i] + modelo.coef_*X_col\n",
    "        erro.append(mean_squared_error(y, ypred1))\n",
    "    return intercept, erro\n",
    "\n",
    "    "
   ]
  },
  {
   "cell_type": "code",
   "execution_count": 102,
   "metadata": {},
   "outputs": [
    {
     "data": {
      "text/plain": [
       "Text(18.0, 0.5, 'Erro')"
      ]
     },
     "execution_count": 102,
     "metadata": {},
     "output_type": "execute_result"
    },
    {
     "data": {
      "image/png": "[encoded data removed]",
      "text/plain": [
       "<Figure size 360x720 with 3 Axes>"
      ]
     },
     "metadata": {
      "needs_background": "light"
     },
     "output_type": "display_data"
    }
   ],
   "source": [
    "atributos = np.random.choice(X.columns, 3, replace=False)\n",
    "delta = np.random.random(100)\n",
    "i0, e0 = intercept_erro(X,y,atributos[0],delta)\n",
    "i1, e1 = intercept_erro(X,y,atributos[1],delta)\n",
    "i2, e2 = intercept_erro(X,y,atributos[2],delta)\n",
    "fig, axs = plt.subplots(3, figsize=(5,10))\n",
    "fig.suptitle('Erro Quad Medio p/ atributos em Heart Disease')\n",
    "fig.tight_layout(pad=5.0)\n",
    "axs[0].plot(i0, e0)\n",
    "axs[0].set_title(atributos[0])\n",
    "axs[0].set_xlabel(\"Intercept\")\n",
    "axs[0].set_ylabel(\"Erro\")\n",
    "axs[1].plot(i1, e1)\n",
    "axs[1].set_title(atributos[1])\n",
    "axs[1].set_xlabel(\"Intercept\")\n",
    "axs[1].set_ylabel(\"Erro\")\n",
    "axs[2].plot(i2, e2)\n",
    "axs[2].set_title(atributos[2])\n",
    "axs[2].set_xlabel(\"Intercept\")\n",
    "axs[2].set_ylabel(\"Erro\")\n",
    "\n",
    "\n"
   ]
  },
  {
   "cell_type": "code",
   "execution_count": null,
   "metadata": {},
   "outputs": [],
   "source": []
  },
  {
   "cell_type": "code",
   "execution_count": null,
   "metadata": {},
   "outputs": [],
   "source": []
  },
  {
   "cell_type": "code",
   "execution_count": null,
   "metadata": {},
   "outputs": [],
   "source": []
  },
  {
   "cell_type": "code",
   "execution_count": null,
   "metadata": {},
   "outputs": [],
   "source": []
  }
 ],
 "metadata": {
  "kernelspec": {
   "display_name": "Python 3",
   "language": "python",
   "name": "python3"
  },
  "language_info": {
   "codemirror_mode": {
    "name": "ipython",
    "version": 3
   },
   "file_extension": ".py",
   "mimetype": "text/x-python",
   "name": "python",
   "nbconvert_exporter": "python",
   "pygments_lexer": "ipython3",
   "version": "3.8.3"
  }
 },
 "nbformat": 4,
 "nbformat_minor": 4
}
