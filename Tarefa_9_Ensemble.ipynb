{
 "cells": [
  {
   "cell_type": "code",
   "execution_count": 15,
   "metadata": {},
   "outputs": [],
   "source": [
    "import matplotlib.pyplot as plt\n",
    "from sklearn import datasets\n",
    "import pandas as pd\n",
    "import numpy as np\n",
    "from sklearn.tree import DecisionTreeClassifier\n",
    "from sklearn.model_selection import GridSearchCV, RandomizedSearchCV\n",
    "from sklearn.model_selection import cross_val_score, train_test_split\n",
    "from itertools import combinations\n",
    "from sklearn.metrics import accuracy_score\n",
    "from collections import Counter\n",
    "from sklearn.base import BaseEstimator, ClassifierMixin\n",
    "from scipy.stats import entropy\n",
    "from sklearn.ensemble import VotingClassifier, StackingClassifier, RandomForestClassifier\n",
    "from sklearn.naive_bayes import GaussianNB\n",
    "from sklearn.neighbors import KNeighborsClassifier"
   ]
  },
  {
   "cell_type": "code",
   "execution_count": 20,
   "metadata": {},
   "outputs": [
    {
     "name": "stdout",
     "output_type": "stream",
     "text": [
      "1949\n",
      "(1949, 35)\n",
      "(1949,)\n"
     ]
    }
   ],
   "source": [
    "# import Data\n",
    "df = pd.read_excel('dados_artigo_2019.xlsx', index_col=[0])\n",
    "df = df.dropna()\n",
    "print(len(df))\n",
    "#df.head()\n",
    "X, y = df.drop('CEG',axis=1), df.CEG\n",
    "y = y.apply(lambda x: 1 if x <= 7.62 else 0)\n",
    "print(X.shape)\n",
    "print(y.shape)"
   ]
  },
  {
   "cell_type": "code",
   "execution_count": 21,
   "metadata": {},
   "outputs": [],
   "source": [
    "# Treino e Teste\n",
    "X_train, X_test, \\\n",
    "y_train, y_test = train_test_split(X, y, random_state=42)\n"
   ]
  },
  {
   "cell_type": "code",
   "execution_count": 32,
   "metadata": {},
   "outputs": [],
   "source": [
    "# Classificadores\n",
    "clf_RF = RandomForestClassifier(n_estimators=50, random_state=42)\n",
    "clf_GB = GaussianNB()\n",
    "clf_KNN = KNeighborsClassifier(9)"
   ]
  },
  {
   "cell_type": "code",
   "execution_count": 34,
   "metadata": {},
   "outputs": [
    {
     "name": "stdout",
     "output_type": "stream",
     "text": [
      "Precisao:0.791\n",
      "Precisao:0.576\n",
      "Precisao:0.699\n"
     ]
    }
   ],
   "source": [
    "# Classificadores Isolados\n",
    "for mod in [clf_RF, clf_GB, clf_KNN]:\n",
    "    modelo = mod\n",
    "    modelo.fit(X_train, y_train)\n",
    "    pr = modelo.predict(X_test)\n",
    "    hits = pr == y_test\n",
    "    print(f'Precisao:{(sum(hits)/len(hits)):.3f}')"
   ]
  },
  {
   "cell_type": "code",
   "execution_count": 46,
   "metadata": {},
   "outputs": [
    {
     "name": "stderr",
     "output_type": "stream",
     "text": [
      "/Users/viniciusmarques/opt/anaconda3/lib/python3.8/site-packages/sklearn/linear_model/_logistic.py:762: ConvergenceWarning: lbfgs failed to converge (status=1):\n",
      "STOP: TOTAL NO. of ITERATIONS REACHED LIMIT.\n",
      "\n",
      "Increase the number of iterations (max_iter) or scale the data as shown in:\n",
      "    https://scikit-learn.org/stable/modules/preprocessing.html\n",
      "Please also refer to the documentation for alternative solver options:\n",
      "    https://scikit-learn.org/stable/modules/linear_model.html#logistic-regression\n",
      "  n_iter_i = _check_optimize_result(\n"
     ]
    },
    {
     "name": "stdout",
     "output_type": "stream",
     "text": [
      "Voting:0.752\n",
      "Stacking:0.752\n"
     ]
    },
    {
     "name": "stderr",
     "output_type": "stream",
     "text": [
      "/Users/viniciusmarques/opt/anaconda3/lib/python3.8/site-packages/sklearn/linear_model/_logistic.py:762: ConvergenceWarning: lbfgs failed to converge (status=1):\n",
      "STOP: TOTAL NO. of ITERATIONS REACHED LIMIT.\n",
      "\n",
      "Increase the number of iterations (max_iter) or scale the data as shown in:\n",
      "    https://scikit-learn.org/stable/modules/preprocessing.html\n",
      "Please also refer to the documentation for alternative solver options:\n",
      "    https://scikit-learn.org/stable/modules/linear_model.html#logistic-regression\n",
      "  n_iter_i = _check_optimize_result(\n"
     ]
    }
   ],
   "source": [
    "# Combinacao de classificadores - https://github.com/fboldt/aulasml/blob/master/ensembles.ipynb\n",
    "# Voting\n",
    "from sklearn.ensemble import VotingClassifier\n",
    "modelo_voting = VotingClassifier([\n",
    "    ('RF', clf_RF),\n",
    "    ('GB', clf_GB),\n",
    "    ('KNN', clf_KNN)\n",
    "], voting='soft')\n",
    "modelo.fit(X_train, y_train)\n",
    "vo_pr = modelo.predict(X_test)\n",
    "vohits = vo_pr == y_test\n",
    "print(f'Voting:{(sum(vohits)/len(vohits)):.3f}')\n",
    "\n",
    "# Stacking\n",
    "modelo_stacking = StackingClassifier([\n",
    "    ('RF', clf_RF),\n",
    "    ('GB', clf_GB),\n",
    "    ('KNN', clf_KNN)\n",
    "], cv=3, passthrough=True)\n",
    "modelo.fit(X_train, y_train) \n",
    "sc_pr = modelo.predict(X_test)\n",
    "schits = sc_pr == y_test\n",
    "print(f'Stacking:{(sum(schits)/len(schits)):.3f}')"
   ]
  },
  {
   "cell_type": "code",
   "execution_count": 47,
   "metadata": {},
   "outputs": [
    {
     "name": "stdout",
     "output_type": "stream",
     "text": [
      "Precisao do Grid Voting:0.783\n"
     ]
    }
   ],
   "source": [
    "# Usando o Gridsearch pra explorar parametros - \n",
    "# https://github.com/Vinicius42-00/MPCA20201/blob/main/Tarefa_8_Reconhecimento_Padroes_Kaggle_Titanic_Melhora_do_Score.ipynb\n",
    "parametros_v = {\n",
    "    'RF__n_estimators': [50, 100, 150],\n",
    "    'RF__max_depth': [10, 15, 20],\n",
    "    'RF__criterion': ['gini','entropy'],\n",
    "    #'KNN__algorithm': ['auto', 'ball_tree', 'kd_tree', 'brute'],\n",
    "    'KNN__leaf_size': [20, 30, 40],\n",
    "    #'KNN__n_neighbors': [1,5,10],\n",
    "    'GB__var_smoothing': [1.0,2.0,3.0]\n",
    "}\n",
    "modelo_grid_vot = GridSearchCV(modelo_voting, \n",
    "                               param_grid=parametros_v, \n",
    "                               scoring='roc_auc_ovr_weighted',\n",
    "                               n_jobs=-1)\n",
    "modelo_grid_vot.fit(X_train, y_train) \n",
    "grid_vot_pr = modelo_grid_vot.predict(X_test)\n",
    "grid_vot_hits = grid_vot_pr == y_test\n",
    "print(f'Precisao do Grid Voting:{(sum(grid_vot_hits)/len(grid_vot_hits)):.3f}')"
   ]
  },
  {
   "cell_type": "code",
   "execution_count": 48,
   "metadata": {},
   "outputs": [
    {
     "name": "stdout",
     "output_type": "stream",
     "text": [
      "Precisao do Grid Stacking:0.748\n"
     ]
    },
    {
     "name": "stderr",
     "output_type": "stream",
     "text": [
      "/Users/viniciusmarques/opt/anaconda3/lib/python3.8/site-packages/sklearn/linear_model/_logistic.py:762: ConvergenceWarning: lbfgs failed to converge (status=1):\n",
      "STOP: TOTAL NO. of ITERATIONS REACHED LIMIT.\n",
      "\n",
      "Increase the number of iterations (max_iter) or scale the data as shown in:\n",
      "    https://scikit-learn.org/stable/modules/preprocessing.html\n",
      "Please also refer to the documentation for alternative solver options:\n",
      "    https://scikit-learn.org/stable/modules/linear_model.html#logistic-regression\n",
      "  n_iter_i = _check_optimize_result(\n"
     ]
    }
   ],
   "source": [
    "modelo_grid_stk = GridSearchCV(modelo_stacking, \n",
    "                               param_grid=parametros_v, \n",
    "                               scoring='roc_auc_ovr_weighted',\n",
    "                               n_jobs=-1)\n",
    "modelo_grid_stk.fit(X_train, y_train) \n",
    "grid_stk_pr = modelo_grid_stk.predict(X_test)\n",
    "grid_stk_hits = grid_stk_pr == y_test\n",
    "print(f'Precisao do Grid Stacking:{(sum(grid_stk_hits)/len(grid_stk_hits)):.3f}')"
   ]
  },
  {
   "cell_type": "code",
   "execution_count": 52,
   "metadata": {},
   "outputs": [
    {
     "name": "stdout",
     "output_type": "stream",
     "text": [
      "Precisao Melhorada do GB:0.654\n"
     ]
    }
   ],
   "source": [
    "# Melhora dos Classificadores Fracos\n",
    "parametros_GB = {\n",
    "    #'KNN__algorithm': ['auto', 'ball_tree', 'kd_tree', 'brute'],\n",
    "    #'KNN__leaf_size': [20, 30, 40],\n",
    "    #'KNN__n_neighbors': [1,5,10],\n",
    "   'var_smoothing': [1.0,2.0,3.0]\n",
    "}\n",
    "\n",
    "modelo_grid_gb = GridSearchCV(clf_GB, \n",
    "                           param_grid=parametros_GB, \n",
    "                           scoring='roc_auc_ovr_weighted',\n",
    "                           n_jobs=-1)\n",
    "modelo_grid_gb.fit(X_train, y_train)\n",
    "pr = modelo_grid_gb.predict(X_test)\n",
    "hits = pr == y_test\n",
    "print(f'Precisao Melhorada do GB:{(sum(hits)/len(hits)):.3f}')"
   ]
  },
  {
   "cell_type": "code",
   "execution_count": 53,
   "metadata": {},
   "outputs": [
    {
     "name": "stdout",
     "output_type": "stream",
     "text": [
      "Precisao Melhorada do GB:0.705\n"
     ]
    }
   ],
   "source": [
    "parametros_KNN = {\n",
    "    'algorithm': ['auto', 'ball_tree', 'kd_tree', 'brute'],\n",
    "    'leaf_size': [20, 30, 40],\n",
    "    'n_neighbors': [1,5,10],\n",
    "    #'GB__var_smoothing': [1.0,2.0,3.0]\n",
    "}\n",
    "\n",
    "modelo_grid_knn = GridSearchCV(clf_KNN, \n",
    "                           param_grid=parametros_KNN, \n",
    "                           scoring='roc_auc_ovr_weighted',\n",
    "                           n_jobs=-1)\n",
    "modelo_grid_knn.fit(X_train, y_train)\n",
    "pr = modelo_grid_knn.predict(X_test)\n",
    "hits = pr == y_test\n",
    "print(f'Precisao Melhorada do GB:{(sum(hits)/len(hits)):.3f}')"
   ]
  },
  {
   "cell_type": "code",
   "execution_count": 54,
   "metadata": {},
   "outputs": [
    {
     "name": "stdout",
     "output_type": "stream",
     "text": [
      "Voting Melhor CLF:0.799\n",
      "Stacking Melhor CLF:0.764\n"
     ]
    },
    {
     "name": "stderr",
     "output_type": "stream",
     "text": [
      "/Users/viniciusmarques/opt/anaconda3/lib/python3.8/site-packages/sklearn/linear_model/_logistic.py:762: ConvergenceWarning: lbfgs failed to converge (status=1):\n",
      "STOP: TOTAL NO. of ITERATIONS REACHED LIMIT.\n",
      "\n",
      "Increase the number of iterations (max_iter) or scale the data as shown in:\n",
      "    https://scikit-learn.org/stable/modules/preprocessing.html\n",
      "Please also refer to the documentation for alternative solver options:\n",
      "    https://scikit-learn.org/stable/modules/linear_model.html#logistic-regression\n",
      "  n_iter_i = _check_optimize_result(\n"
     ]
    }
   ],
   "source": [
    "# testando Melhor classificador\n",
    "# Voting \n",
    "modelo_voting_1 = VotingClassifier([\n",
    "    ('RF1', RandomForestClassifier(n_estimators=50, random_state=42)),\n",
    "    ('RF2', RandomForestClassifier(n_estimators=40, random_state=41)),\n",
    "    ('RF3', RandomForestClassifier(n_estimators=30, random_state=40))\n",
    "], voting='soft')\n",
    "modelo_voting_1.fit(X_train, y_train)\n",
    "vo_pr = modelo_voting_1.predict(X_test)\n",
    "vohits = vo_pr == y_test\n",
    "print(f'Voting Melhor CLF:{(sum(vohits)/len(vohits)):.3f}')\n",
    "\n",
    "# Stacking\n",
    "modelo_stacking_2 = StackingClassifier([\n",
    "    ('RF1', RandomForestClassifier(n_estimators=50, random_state=42)),\n",
    "    ('RF2', RandomForestClassifier(n_estimators=40, random_state=41)),\n",
    "    ('RF3', RandomForestClassifier(n_estimators=30, random_state=40))\n",
    "\n",
    "], cv=3, passthrough=True)\n",
    "modelo_stacking_2.fit(X_train, y_train) \n",
    "sc_pr = modelo_stacking_2.predict(X_test)\n",
    "schits = sc_pr == y_test\n",
    "print(f'Stacking Melhor CLF:{(sum(schits)/len(schits)):.3f}')"
   ]
  },
  {
   "cell_type": "code",
   "execution_count": 55,
   "metadata": {},
   "outputs": [
    {
     "name": "stdout",
     "output_type": "stream",
     "text": [
      "Precisao do Grid Voting Melhor CLF:0.703\n"
     ]
    }
   ],
   "source": [
    "parametros_v_2 = {\n",
    "    'RF__n_estimators': [50, 100, 150],\n",
    "    'RF__max_depth': [10, 15, 20],\n",
    "    'RF__criterion': ['gini','entropy'],\n",
    "}\n",
    "modelo_grid_vot_2 = GridSearchCV(modelo_voting, \n",
    "                               param_grid=parametros_v_2, \n",
    "                               scoring='roc_auc_ovr_weighted',\n",
    "                               n_jobs=-1)\n",
    "modelo_grid_vot_2.fit(X_train, y_train) \n",
    "grid_vot_pr = modelo_grid_vot_2.predict(X_test)\n",
    "grid_vot_hits = grid_vot_pr == y_test\n",
    "print(f'Precisao do Grid Voting Melhor CLF:{(sum(grid_vot_hits)/len(grid_vot_hits)):.3f}')"
   ]
  },
  {
   "cell_type": "code",
   "execution_count": 56,
   "metadata": {},
   "outputs": [
    {
     "name": "stdout",
     "output_type": "stream",
     "text": [
      "Precisao do Grid Stacking Melhor CLF:0.748\n"
     ]
    },
    {
     "name": "stderr",
     "output_type": "stream",
     "text": [
      "/Users/viniciusmarques/opt/anaconda3/lib/python3.8/site-packages/sklearn/linear_model/_logistic.py:762: ConvergenceWarning: lbfgs failed to converge (status=1):\n",
      "STOP: TOTAL NO. of ITERATIONS REACHED LIMIT.\n",
      "\n",
      "Increase the number of iterations (max_iter) or scale the data as shown in:\n",
      "    https://scikit-learn.org/stable/modules/preprocessing.html\n",
      "Please also refer to the documentation for alternative solver options:\n",
      "    https://scikit-learn.org/stable/modules/linear_model.html#logistic-regression\n",
      "  n_iter_i = _check_optimize_result(\n"
     ]
    }
   ],
   "source": [
    "modelo_grid_stk_2 = GridSearchCV(modelo_stacking, \n",
    "                               param_grid=parametros_v, \n",
    "                               scoring='roc_auc_ovr_weighted',\n",
    "                               n_jobs=-1)\n",
    "modelo_grid_stk_2.fit(X_train, y_train) \n",
    "grid_stk_pr = modelo_grid_stk_2.predict(X_test)\n",
    "grid_stk_hits = grid_stk_pr == y_test\n",
    "print(f'Precisao do Grid Stacking Melhor CLF:{(sum(grid_stk_hits)/len(grid_stk_hits)):.3f}')"
   ]
  }
 ],
 "metadata": {
  "kernelspec": {
   "display_name": "Python 3",
   "language": "python",
   "name": "python3"
  },
  "language_info": {
   "codemirror_mode": {
    "name": "ipython",
    "version": 3
   },
   "file_extension": ".py",
   "mimetype": "text/x-python",
   "name": "python",
   "nbconvert_exporter": "python",
   "pygments_lexer": "ipython3",
   "version": "3.8.3"
  }
 },
 "nbformat": 4,
 "nbformat_minor": 4
}
